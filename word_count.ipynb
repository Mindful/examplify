{
 "cells": [
  {
   "cell_type": "code",
   "execution_count": 1,
   "metadata": {
    "collapsed": true
   },
   "outputs": [],
   "source": [
    "FILENAME = '/home/josh/scrapbox/toudai/cuwsdm_test.raw.en'\n",
    "DBNAME = 'cuwsdm_words.db'"
   ]
  },
  {
   "cell_type": "code",
   "execution_count": 3,
   "outputs": [
    {
     "name": "stdout",
     "output_type": "stream",
     "text": [
      "Found 1054 words, like ['basque', 'satisfy', 'wan', 'sail', 'calibre']\n"
     ]
    }
   ],
   "source": [
    "import re\n",
    "target_word_regex = re.compile(r'<define>\\s\\w+\\s</define>')\n",
    "wordset = set()\n",
    "\n",
    "for line in open(FILENAME, 'r'):\n",
    "    word = next(target_word_regex.finditer(line)).group(0)[9:-10]\n",
    "    wordset.add(word)\n",
    "\n",
    "print(f'Found {len(wordset)} words, like {list(wordset)[0:5]}')\n",
    "\n",
    "#TODO: conver to lemmas, build lemma list"
   ],
   "metadata": {
    "collapsed": false,
    "pycharm": {
     "name": "#%%\n"
    }
   }
  },
  {
   "cell_type": "code",
   "execution_count": null,
   "outputs": [],
   "source": [
    "import sqlite3\n",
    "\n",
    "con = sqlite3.connect(DBNAME)\n",
    "cur = con.cursor()\n",
    "\n",
    "sentence_count_query = \"\"\"\n",
    "select lemma, COUNT(DISTINCT sentence) from words where lemma in ('solar', 'be')\n",
    "GROUP BY lemma;\n",
    "\"\"\"\n",
    "\n",
    "word_count_query = \"\"\"\n",
    "select lemma, COUNT(*) from words where lemma in (%s)\n",
    "GROUP BY lemma;\n",
    "\"\"\" % ','.join('?'*len(wordset)), desired_ids)\n",
    "\n",
    "for lemma, count in cur.execute()\n",
    "\n",
    "word_entry_counts = {}\n",
    "word_sentence_ounts = {}\n",
    "\n",
    "def example_count_for_word(w: str) -> int:\n"
   ],
   "metadata": {
    "collapsed": false,
    "pycharm": {
     "name": "#%%\n"
    }
   }
  }
 ],
 "metadata": {
  "kernelspec": {
   "display_name": "Python 3",
   "language": "python",
   "name": "python3"
  },
  "language_info": {
   "codemirror_mode": {
    "name": "ipython",
    "version": 2
   },
   "file_extension": ".py",
   "mimetype": "text/x-python",
   "name": "python",
   "nbconvert_exporter": "python",
   "pygments_lexer": "ipython2",
   "version": "2.7.6"
  }
 },
 "nbformat": 4,
 "nbformat_minor": 0
}